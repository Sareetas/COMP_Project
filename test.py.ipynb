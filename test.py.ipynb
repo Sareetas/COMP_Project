{
 "cells": [
  {
   "cell_type": "markdown",
   "metadata": {},
   "source": [
    "### Install Packages"
   ]
  },
  {
   "cell_type": "code",
   "execution_count": null,
   "metadata": {},
   "outputs": [],
   "source": [
    "%pip install --force-reinstall -r requirements.txt"
   ]
  },
  {
   "cell_type": "markdown",
   "metadata": {},
   "source": [
    "### Setup"
   ]
  },
  {
   "cell_type": "code",
   "execution_count": null,
   "metadata": {},
   "outputs": [],
   "source": [
    "# program for testing rf_wrapper.py\n",
    "import os\n",
    "import pandas as pd\n",
    "from Modules.rf_wrapper import RF_Model, Preprocess\n",
    "\n",
    "# set up directories\n",
    "data_dir = os.getcwd() + r'/Data'\n",
    "model_dir = os.getcwd() + r'/Models'"
   ]
  },
  {
   "cell_type": "markdown",
   "metadata": {},
   "source": [
    "### Load Data"
   ]
  },
  {
   "cell_type": "code",
   "execution_count": null,
   "metadata": {},
   "outputs": [],
   "source": [
    "# load testing data\n",
    "X = pd.read_csv((data_dir + '/x_test.csv'), nrows=5)\n",
    "y = pd.read_csv((data_dir + '/y_test.csv'), nrows=5)"
   ]
  },
  {
   "cell_type": "markdown",
   "metadata": {},
   "source": [
    "### Load Model"
   ]
  },
  {
   "cell_type": "code",
   "execution_count": null,
   "metadata": {},
   "outputs": [],
   "source": [
    "# load model and predict on test data\n",
    "model = RF_Model()\n",
    "\n",
    "if model.LoadGridSearch(f'{model_dir}/random_forest.joblib'):\n",
    "    print(\"Successfully loaded model.\")\n",
    "\n",
    "if model.LoadScaler(f'{model_dir}/std_scaler.joblib'):\n",
    "    print(\"Successfully loaded scaler.\")"
   ]
  },
  {
   "cell_type": "markdown",
   "metadata": {},
   "source": [
    "### Make Predictions"
   ]
  },
  {
   "cell_type": "code",
   "execution_count": null,
   "metadata": {},
   "outputs": [],
   "source": [
    "pred = model.Predict(X, is_scaled=True)\n",
    "\n",
    "print(f\"{'Idx':<5} | {'Predicted':<13} | Truth\")\n",
    "for idx in enumerate(pred):\n",
    "    print(f\"{idx[0]:<5n} | {pred[idx[0]]:<13} | {y[' Label'].iloc[idx[0]]}\")"
   ]
  }
 ],
 "metadata": {
  "kernelspec": {
   "display_name": "Python 3",
   "language": "python",
   "name": "python3"
  },
  "language_info": {
   "codemirror_mode": {
    "name": "ipython",
    "version": 3
   },
   "file_extension": ".py",
   "mimetype": "text/x-python",
   "name": "python",
   "nbconvert_exporter": "python",
   "pygments_lexer": "ipython3",
   "version": "3.10.12"
  }
 },
 "nbformat": 4,
 "nbformat_minor": 2
}
